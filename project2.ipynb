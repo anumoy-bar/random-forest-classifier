{
 "cells": [
  {
   "cell_type": "code",
   "execution_count": 3,
   "metadata": {},
   "outputs": [
    {
     "name": "stdout",
     "output_type": "stream",
     "text": [
      "for Decision Tree: \n",
      "0.9846020892687559\n",
      "for SVC: \n",
      "1.0\n",
      "1.0\n",
      "for random forest: \n",
      "0.9919981006647672\n"
     ]
    }
   ],
   "source": [
    "import pandas as pd\n",
    "import numpy as np\n",
    "from sklearn import preprocessing\n",
    "from sklearn.model_selection import cross_val_score\n",
    "from sklearn.svm import SVC\n",
    "from sklearn.model_selection import train_test_split\n",
    "from sklearn.ensemble import RandomForestClassifier\n",
    "from sklearn.tree import DecisionTreeClassifier\n",
    "from sklearn.metrics import roc_auc_score\n",
    "from sklearn.metrics import accuracy_score\n",
    "\n",
    "training = pd.read_csv(\"Training.csv\")\n",
    "testing = pd.read_csv(\"Testing.csv\")\n",
    "\n",
    "#Null Data Check\n",
    "missing_values_count = training.isnull().sum()\n",
    "\n",
    "total_cells = np.product(training.shape)\n",
    "\n",
    "total_missing = missing_values_count.sum()\n",
    "\n",
    "le = preprocessing.LabelEncoder()  \n",
    "\n",
    "x = training.iloc[:,:132]\n",
    "y = training['prognosis']\n",
    "\n",
    "testX = testing.iloc[:,:132]\n",
    "testY = testing['prognosis']\n",
    "testY = le.fit_transform(testY)\n",
    "\n",
    "x_train, x_test, y_train, y_test = train_test_split(x, y, test_size=0.33, random_state=42)\n",
    "\n",
    "#Decision Tree Model\n",
    "clf  = DecisionTreeClassifier()\n",
    "clf = clf.fit(x_train,y_train)\n",
    "y_pred = clf.predict(x_test)\n",
    "scores = cross_val_score(clf, x_test, y_test, cv=5)\n",
    "print(\"for Decision Tree: \")\n",
    "print (scores.mean())\n",
    "\n",
    "#SVC Model\n",
    "model = SVC()\n",
    "model.fit(x_train,y_train)\n",
    "print(\"for SVC: \")\n",
    "print(model.score(x_test,y_test))\n",
    "predict = model.predict(x_test)\n",
    "print(accuracy_score(y_test, predict))\n",
    "\n",
    "#RandomForestClassifier\n",
    "rfc = RandomForestClassifier(n_estimators=4, criterion='entropy')\n",
    "rfc.fit(x_train,y_train)    \n",
    "scores2 = cross_val_score(rfc, x_test, y_test, cv=5)\n",
    "print(\"for random forest: \")\n",
    "print (scores2.mean())\n",
    "y_pred = rfc.predict(x_test)\n"
   ]
  },
  {
   "cell_type": "code",
   "execution_count": null,
   "metadata": {},
   "outputs": [],
   "source": []
  }
 ],
 "metadata": {
  "interpreter": {
   "hash": "b89b5cfaba6639976dc87ff2fec6d58faec662063367e2c229c520fe71072417"
  },
  "kernelspec": {
   "display_name": "Python 3.10.1 64-bit",
   "language": "python",
   "name": "python3"
  },
  "language_info": {
   "codemirror_mode": {
    "name": "ipython",
    "version": 3
   },
   "file_extension": ".py",
   "mimetype": "text/x-python",
   "name": "python",
   "nbconvert_exporter": "python",
   "pygments_lexer": "ipython3",
   "version": "3.10.1"
  },
  "orig_nbformat": 4
 },
 "nbformat": 4,
 "nbformat_minor": 2
}
